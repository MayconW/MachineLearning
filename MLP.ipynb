{
  "nbformat": 4,
  "nbformat_minor": 0,
  "metadata": {
    "colab": {
      "provenance": [],
      "gpuType": "T4"
    },
    "kernelspec": {
      "name": "python3",
      "display_name": "Python 3"
    },
    "language_info": {
      "name": "python"
    },
    "accelerator": "GPU"
  },
  "cells": [
    {
      "cell_type": "code",
      "source": [
        "#!pip3 install keras\n",
        "#!pip install ann_visualizer\n",
        "#!pip install graphviz"
      ],
      "metadata": {
        "id": "9jgyjwF8NR6b"
      },
      "execution_count": null,
      "outputs": []
    },
    {
      "cell_type": "code",
      "source": [
        "# acquire MNIST data\n",
        "from tensorflow.keras.datasets import mnist\n",
        "\n",
        "(train_images, train_labels), (test_images, test_labels) = mnist.load_data()\n",
        "\n",
        "# reshape data for an MLP input\n",
        "import numpy as np\n",
        "\n",
        "import tensorflow as tf\n",
        "np.random.seed(42)\n",
        "\n",
        "\n",
        "train_images = np.reshape(train_images, (-1, 784))\n",
        "test_images = np.reshape(test_images, (-1, 784))\n",
        "\n",
        "# normalize data\n",
        "train_images = train_images.astype('float32') / 255\n",
        "test_images = test_images.astype('float32') / 255\n",
        "\n",
        "# convert labels to a one-hot vector\n",
        "from tensorflow.keras.utils import to_categorical\n",
        "\n",
        "train_labels = to_categorical(train_labels)\n",
        "test_labels = to_categorical(test_labels)"
      ],
      "metadata": {
        "id": "NNL2Lw65Hitz",
        "colab": {
          "base_uri": "https://localhost:8080/"
        },
        "outputId": "09c688a5-9779-47d7-e69d-9f91f95343f7"
      },
      "execution_count": null,
      "outputs": [
        {
          "output_type": "stream",
          "name": "stdout",
          "text": [
            "Downloading data from https://storage.googleapis.com/tensorflow/tf-keras-datasets/mnist.npz\n",
            "11490434/11490434 [==============================] - 1s 0us/step\n"
          ]
        }
      ]
    },
    {
      "cell_type": "code",
      "source": [
        "# define network architecture\n",
        "from tensorflow.keras.models import Sequential\n",
        "from tensorflow.keras.layers import InputLayer\n",
        "from tensorflow.keras.layers import Dense\n",
        "\n",
        "MLP = Sequential()\n",
        "MLP.add(InputLayer(input_shape=(784, ))) # layer de entrada\n",
        "MLP.add(Dense(256, activation='relu')) # layer oculto 1\n",
        "MLP.add(Dense(256, activation='relu')) # layer oculto 2\n",
        "MLP.add(Dense(10, activation='softmax')) # saida\n",
        "\n",
        "# summary\n",
        "MLP.summary()"
      ],
      "metadata": {
        "colab": {
          "base_uri": "https://localhost:8080/"
        },
        "id": "qC4sxAZeJ7aU",
        "outputId": "6cf4bf7e-8f81-4dfc-838b-45bea0a63bf1"
      },
      "execution_count": null,
      "outputs": [
        {
          "output_type": "stream",
          "name": "stdout",
          "text": [
            "Model: \"sequential\"\n",
            "_________________________________________________________________\n",
            " Layer (type)                Output Shape              Param #   \n",
            "=================================================================\n",
            " dense (Dense)               (None, 256)               200960    \n",
            "                                                                 \n",
            " dense_1 (Dense)             (None, 256)               65792     \n",
            "                                                                 \n",
            " dense_2 (Dense)             (None, 10)                2570      \n",
            "                                                                 \n",
            "=================================================================\n",
            "Total params: 269,322\n",
            "Trainable params: 269,322\n",
            "Non-trainable params: 0\n",
            "_________________________________________________________________\n"
          ]
        }
      ]
    },
    {
      "cell_type": "code",
      "source": [
        "# optimization\n",
        "MLP.compile(loss='categorical_crossentropy',\n",
        "            optimizer='adam',\n",
        "            metrics=['accuracy'])"
      ],
      "metadata": {
        "id": "ZRzcMb2IP5bK"
      },
      "execution_count": null,
      "outputs": []
    },
    {
      "cell_type": "code",
      "source": [
        "# train (fit) // alterei algumas vezes os valores para ver a diferença na accuracy\n",
        "MLP.fit(train_images, train_labels, \n",
        "        epochs=50, batch_size=64)"
      ],
      "metadata": {
        "colab": {
          "base_uri": "https://localhost:8080/"
        },
        "id": "nJzPEyysQAzu",
        "outputId": "83852d6b-cf68-418a-f469-201047d5eacf"
      },
      "execution_count": null,
      "outputs": [
        {
          "output_type": "stream",
          "name": "stdout",
          "text": [
            "Epoch 1/50\n",
            "938/938 [==============================] - 9s 3ms/step - loss: 0.2244 - accuracy: 0.9336\n",
            "Epoch 2/50\n",
            "938/938 [==============================] - 3s 3ms/step - loss: 0.0860 - accuracy: 0.9738\n",
            "Epoch 3/50\n",
            "938/938 [==============================] - 4s 4ms/step - loss: 0.0581 - accuracy: 0.9818\n",
            "Epoch 4/50\n",
            "938/938 [==============================] - 4s 4ms/step - loss: 0.0415 - accuracy: 0.9867\n",
            "Epoch 5/50\n",
            "938/938 [==============================] - 7s 7ms/step - loss: 0.0313 - accuracy: 0.9897\n",
            "Epoch 6/50\n",
            "938/938 [==============================] - 6s 7ms/step - loss: 0.0274 - accuracy: 0.9904\n",
            "Epoch 7/50\n",
            "938/938 [==============================] - 4s 4ms/step - loss: 0.0228 - accuracy: 0.9924\n",
            "Epoch 8/50\n",
            "938/938 [==============================] - 4s 4ms/step - loss: 0.0155 - accuracy: 0.9952\n",
            "Epoch 9/50\n",
            "938/938 [==============================] - 3s 3ms/step - loss: 0.0160 - accuracy: 0.9951\n",
            "Epoch 10/50\n",
            "938/938 [==============================] - 4s 4ms/step - loss: 0.0154 - accuracy: 0.9949\n",
            "Epoch 11/50\n",
            "938/938 [==============================] - 4s 4ms/step - loss: 0.0145 - accuracy: 0.9952\n",
            "Epoch 12/50\n",
            "938/938 [==============================] - 3s 4ms/step - loss: 0.0132 - accuracy: 0.9958\n",
            "Epoch 13/50\n",
            "938/938 [==============================] - 3s 3ms/step - loss: 0.0103 - accuracy: 0.9964\n",
            "Epoch 14/50\n",
            "938/938 [==============================] - 3s 3ms/step - loss: 0.0113 - accuracy: 0.9960\n",
            "Epoch 15/50\n",
            "938/938 [==============================] - 4s 4ms/step - loss: 0.0106 - accuracy: 0.9968\n",
            "Epoch 16/50\n",
            "938/938 [==============================] - 3s 3ms/step - loss: 0.0073 - accuracy: 0.9978\n",
            "Epoch 17/50\n",
            "938/938 [==============================] - 3s 3ms/step - loss: 0.0125 - accuracy: 0.9959\n",
            "Epoch 18/50\n",
            "938/938 [==============================] - 4s 4ms/step - loss: 0.0061 - accuracy: 0.9980\n",
            "Epoch 19/50\n",
            "938/938 [==============================] - 4s 4ms/step - loss: 0.0120 - accuracy: 0.9965\n",
            "Epoch 20/50\n",
            "938/938 [==============================] - 3s 3ms/step - loss: 0.0080 - accuracy: 0.9976\n",
            "Epoch 21/50\n",
            "938/938 [==============================] - 3s 4ms/step - loss: 0.0072 - accuracy: 0.9977\n",
            "Epoch 22/50\n",
            "938/938 [==============================] - 4s 4ms/step - loss: 0.0062 - accuracy: 0.9982\n",
            "Epoch 23/50\n",
            "938/938 [==============================] - 4s 4ms/step - loss: 0.0109 - accuracy: 0.9967\n",
            "Epoch 24/50\n",
            "938/938 [==============================] - 4s 4ms/step - loss: 0.0048 - accuracy: 0.9984\n",
            "Epoch 25/50\n",
            "938/938 [==============================] - 3s 4ms/step - loss: 0.0080 - accuracy: 0.9975\n",
            "Epoch 26/50\n",
            "938/938 [==============================] - 4s 5ms/step - loss: 0.0056 - accuracy: 0.9982\n",
            "Epoch 27/50\n",
            "938/938 [==============================] - 3s 3ms/step - loss: 0.0091 - accuracy: 0.9976\n",
            "Epoch 28/50\n",
            "938/938 [==============================] - 3s 3ms/step - loss: 0.0082 - accuracy: 0.9976\n",
            "Epoch 29/50\n",
            "938/938 [==============================] - 4s 4ms/step - loss: 0.0068 - accuracy: 0.9981\n",
            "Epoch 30/50\n",
            "938/938 [==============================] - 3s 4ms/step - loss: 0.0052 - accuracy: 0.9984\n",
            "Epoch 31/50\n",
            "938/938 [==============================] - 3s 3ms/step - loss: 0.0052 - accuracy: 0.9984\n",
            "Epoch 32/50\n",
            "938/938 [==============================] - 3s 3ms/step - loss: 0.0049 - accuracy: 0.9985\n",
            "Epoch 33/50\n",
            "938/938 [==============================] - 4s 4ms/step - loss: 0.0069 - accuracy: 0.9980\n",
            "Epoch 34/50\n",
            "938/938 [==============================] - 3s 3ms/step - loss: 0.0060 - accuracy: 0.9984\n",
            "Epoch 35/50\n",
            "938/938 [==============================] - 3s 3ms/step - loss: 0.0061 - accuracy: 0.9983\n",
            "Epoch 36/50\n",
            "938/938 [==============================] - 3s 4ms/step - loss: 0.0050 - accuracy: 0.9986\n",
            "Epoch 37/50\n",
            "938/938 [==============================] - 4s 4ms/step - loss: 0.0030 - accuracy: 0.9991\n",
            "Epoch 38/50\n",
            "938/938 [==============================] - 3s 3ms/step - loss: 0.0078 - accuracy: 0.9979\n",
            "Epoch 39/50\n",
            "938/938 [==============================] - 3s 3ms/step - loss: 0.0059 - accuracy: 0.9984\n",
            "Epoch 40/50\n",
            "938/938 [==============================] - 4s 4ms/step - loss: 0.0053 - accuracy: 0.9987\n",
            "Epoch 41/50\n",
            "938/938 [==============================] - 4s 4ms/step - loss: 0.0075 - accuracy: 0.9982\n",
            "Epoch 42/50\n",
            "938/938 [==============================] - 3s 3ms/step - loss: 0.0047 - accuracy: 0.9987\n",
            "Epoch 43/50\n",
            "938/938 [==============================] - 3s 4ms/step - loss: 0.0032 - accuracy: 0.9992\n",
            "Epoch 44/50\n",
            "938/938 [==============================] - 4s 4ms/step - loss: 0.0059 - accuracy: 0.9985\n",
            "Epoch 45/50\n",
            "938/938 [==============================] - 3s 3ms/step - loss: 0.0053 - accuracy: 0.9984\n",
            "Epoch 46/50\n",
            "938/938 [==============================] - 3s 4ms/step - loss: 0.0065 - accuracy: 0.9983\n",
            "Epoch 47/50\n",
            "938/938 [==============================] - 3s 4ms/step - loss: 0.0048 - accuracy: 0.9987\n",
            "Epoch 48/50\n",
            "938/938 [==============================] - 4s 4ms/step - loss: 0.0024 - accuracy: 0.9994\n",
            "Epoch 49/50\n",
            "938/938 [==============================] - 3s 3ms/step - loss: 0.0062 - accuracy: 0.9984\n",
            "Epoch 50/50\n",
            "938/938 [==============================] - 3s 3ms/step - loss: 0.0035 - accuracy: 0.9990\n"
          ]
        },
        {
          "output_type": "execute_result",
          "data": {
            "text/plain": [
              "<keras.callbacks.History at 0x7f87ee157ee0>"
            ]
          },
          "metadata": {},
          "execution_count": 5
        }
      ]
    },
    {
      "cell_type": "code",
      "source": [
        "# evaluate performance\n",
        "test_loss, test_acc = MLP.evaluate(test_images, test_labels,\n",
        "                                   batch_size=128,\n",
        "                                   verbose=0)\n",
        "print(\"Test loss:\", test_loss)\n",
        "print(\"Test accuracy:\", (test_acc*100),\"%\")"
      ],
      "metadata": {
        "colab": {
          "base_uri": "https://localhost:8080/"
        },
        "id": "I8rjoPwjQb22",
        "outputId": "d65b5448-5007-414d-c1dd-5cc2cf49f3e5"
      },
      "execution_count": null,
      "outputs": [
        {
          "output_type": "stream",
          "name": "stdout",
          "text": [
            "Test loss: 0.17613498866558075\n",
            "Test accuracy: 98.07999730110168 %\n"
          ]
        }
      ]
    },
    {
      "cell_type": "code",
      "source": [
        "# make a prediction\n",
        "import matplotlib.pyplot as plt\n",
        "\n",
        "digit = test_images[9]\n",
        "digit = np.reshape(digit, (28, 28)) #foi necessario redimensionar\n",
        "plt.imshow(digit, cmap=\"binary\")\n",
        "\n",
        "digit = np.reshape(digit, (-1, 784))\n",
        "digit = digit.astype('float32') / 255\n",
        "\n",
        "MLP.predict(digit, verbose=0)"
      ],
      "metadata": {
        "colab": {
          "base_uri": "https://localhost:8080/",
          "height": 482
        },
        "id": "OI1SuCahRHby",
        "outputId": "99ad93c8-ad91-41fa-c36e-1e03e56cb1a4"
      },
      "execution_count": null,
      "outputs": [
        {
          "output_type": "execute_result",
          "data": {
            "text/plain": [
              "array([[0.05226317, 0.0246617 , 0.03561208, 0.05624901, 0.05789937,\n",
              "        0.3543851 , 0.06407189, 0.05196501, 0.24804279, 0.05484995]],\n",
              "      dtype=float32)"
            ]
          },
          "metadata": {},
          "execution_count": 7
        },
        {
          "output_type": "display_data",
          "data": {
            "text/plain": [
              "<Figure size 640x480 with 1 Axes>"
            ],
            "image/png": "[encoded data removed]"
          },
          "metadata": {}
        }
      ]
    },
    {
      "cell_type": "code",
      "source": [
        "print(MLP.predict(digit, verbose=0))\n",
        "\n",
        "np.argmax(MLP.predict(digit, verbose=0))\n"
      ],
      "metadata": {
        "colab": {
          "base_uri": "https://localhost:8080/"
        },
        "id": "ul2oRKcvV71o",
        "outputId": "888a0943-03a8-4b44-f472-1e47ec833e03"
      },
      "execution_count": null,
      "outputs": [
        {
          "output_type": "stream",
          "name": "stdout",
          "text": [
            "[[0.05226317 0.0246617  0.03561208 0.05624901 0.05789937 0.3543851\n",
            "  0.06407189 0.05196501 0.24804279 0.05484995]]\n"
          ]
        },
        {
          "output_type": "execute_result",
          "data": {
            "text/plain": [
              "5"
            ]
          },
          "metadata": {},
          "execution_count": 8
        }
      ]
    },
    {
      "cell_type": "code",
      "source": [
        "!pip install tensorflow"
      ],
      "metadata": {
        "id": "xGVRfLZlXbzS"
      },
      "execution_count": null,
      "outputs": []
    },
    {
      "cell_type": "code",
      "source": [
        "from sklearn.model_selection import GridSearchCV\n",
        "from tensorflow.keras.wrappers.scikit_learn import KerasClassifier\n",
        "\n",
        "# Função para criar o modelo MLP\n",
        "def create_model():\n",
        "    model = Sequential()\n",
        "    model.add(InputLayer(input_shape=(784, )))\n",
        "    model.add(Dense(256, activation='relu'))\n",
        "    model.add(Dense(256, activation='relu'))\n",
        "    model.add(Dense(10, activation='softmax'))\n",
        "    model.compile(loss='categorical_crossentropy', optimizer='adam', metrics=['accuracy'])\n",
        "    return model\n",
        "\n",
        "# Crie um objeto KerasClassifier a partir da função do modelo\n",
        "model = KerasClassifier(build_fn=create_model)\n",
        "\n",
        "# Defina os parâmetros que você deseja otimizar\n",
        "param_grid = {\n",
        "    'epochs': [50, 100, 150],  # Valores diferentes para o número de épocas\n",
        "    'batch_size': [32, 64, 128]  # Valores diferentes para o tamanho do batch\n",
        "}\n",
        "\n",
        "# Crie o objeto GridSearchCV\n",
        "grid = GridSearchCV(estimator=model, param_grid=param_grid, cv=3)\n",
        "\n",
        "# Execute o grid search nos dados de treinamento\n",
        "grid_result = grid.fit(train_images, train_labels)\n",
        "\n",
        "# Imprima os resultados\n",
        "print(\"Melhores parâmetros encontrados: \", grid_result.best_params_)\n",
        "print(\"Melhor acurácia encontrada: \", grid_result.best_score_)\n",
        "\n",
        "# Avalie o modelo com os melhores parâmetros no conjunto de teste\n",
        "test_loss, test_acc = grid_result.best_estimator_.model.evaluate(test_images, test_labels)\n",
        "print(\"Test loss:\", test_loss)\n",
        "print(\"Test accuracy:\", test_acc)\n"
      ],
      "metadata": {
        "id": "RewhvuoxXQOT"
      },
      "execution_count": null,
      "outputs": []
    },
    {
      "cell_type": "code",
      "source": [
        "print(MLP.predict(digit, verbose=0))\n",
        "\n",
        "np.argmax(MLP.predict(digit, verbose=0))"
      ],
      "metadata": {
        "id": "sUCVTISgrndU"
      },
      "execution_count": null,
      "outputs": []
    }
  ]
}